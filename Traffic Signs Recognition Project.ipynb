{
 "cells": [
  {
   "cell_type": "code",
   "execution_count": 1,
   "metadata": {},
   "outputs": [],
   "source": [
    "# importing libraries\n",
    "import pandas as pd\n",
    "import numpy as np \n",
    "\n",
    "import matplotlib.pyplot as plt\n",
    "import os\n",
    "\n",
    "# tensorflow import of layers , model , etc\n",
    "from tensorflow.keras.utils import to_categorical                      # used for converting labels to one hot encode\n",
    "from tensorflow.keras.models import Sequential                         # for making sequential deep learning model\n",
    "from tensorflow.keras.layers import Conv2D, MaxPool2D, Dense, Flatten, Dropout\n",
    "from tensorflow.keras.callbacks import EarlyStopping                              # for finding optimal mode;\n",
    "\n",
    "# image processing library\n",
    "from PIL import Image                                                  # for reading image\n",
    "from PIL import ImageOps                                               # for converting Image to Grayscale\n",
    "from tensorflow.keras.preprocessing.image import array_to_img          # for viewing image from array\n",
    "\n",
    "# classification report \n",
    "from sklearn.metrics import classification_report"
   ]
  },
  {
   "cell_type": "code",
   "execution_count": 2,
   "metadata": {},
   "outputs": [],
   "source": [
    "\n",
    "# providing the path of folder in which all data is present\n",
    "# data_folder_path = r'C:\\data\\\\'\n",
    "# data_folder_path = r'C:\\Users\\PC\\Downloads\\CEP data unzipped\\data\\\\'\n",
    "data_folder_path = r'Data/' "
   ]
  },
  {
   "cell_type": "code",
   "execution_count": 3,
   "metadata": {},
   "outputs": [],
   "source": [
    "#dictionary to label all traffic signs class.\n",
    "classes = { 0:'Speed limit (20km/h)',\n",
    "            1:'Speed limit (30km/h)', \n",
    "            2:'Speed limit (50km/h)', \n",
    "            3:'Speed limit (60km/h)', \n",
    "            4:'Speed limit (70km/h)', \n",
    "            5:'Speed limit (80km/h)', \n",
    "            6:'End of speed limit (80km/h)', \n",
    "            7:'Speed limit (100km/h)', \n",
    "            8:'Speed limit (120km/h)', \n",
    "            9:'No passing', \n",
    "            10:'No passing veh over 3.5 tons', \n",
    "            11:'Right-of-way at intersection', \n",
    "            12:'Priority road', \n",
    "            13:'Yield', \n",
    "            14:'Stop', \n",
    "            15:'No vehicles', \n",
    "            16:'Veh > 3.5 tons prohibited', \n",
    "            17:'No entry', \n",
    "            18:'General caution', \n",
    "            19:'Dangerous curve left', \n",
    "            20:'Dangerous curve right', \n",
    "            21:'Double curve', \n",
    "            22:'Bumpy road', \n",
    "            23:'Slippery road', \n",
    "            24:'Road narrows on the right', \n",
    "            25:'Road work', \n",
    "            26:'Traffic signals', \n",
    "            27:'Pedestrians', \n",
    "            28:'Children crossing', \n",
    "            29:'Bicycles crossing', \n",
    "            30:'Beware of ice/snow',\n",
    "            31:'Wild animals crossing', \n",
    "            32:'End speed + passing limits', \n",
    "            33:'Turn right ahead', \n",
    "            34:'Turn left ahead', \n",
    "            35:'Ahead only', \n",
    "            36:'Go straight or right', \n",
    "            37:'Go straight or left', \n",
    "            38:'Keep right', \n",
    "            39:'Keep left', \n",
    "            40:'Roundabout mandatory', \n",
    "            41:'End of no passing', \n",
    "            42:'End no passing veh > 3.5 tons' }"
   ]
  },
  {
   "cell_type": "code",
   "execution_count": 4,
   "metadata": {},
   "outputs": [
    {
     "data": {
      "text/html": [
       "<div>\n",
       "<style scoped>\n",
       "    .dataframe tbody tr th:only-of-type {\n",
       "        vertical-align: middle;\n",
       "    }\n",
       "\n",
       "    .dataframe tbody tr th {\n",
       "        vertical-align: top;\n",
       "    }\n",
       "\n",
       "    .dataframe thead th {\n",
       "        text-align: right;\n",
       "    }\n",
       "</style>\n",
       "<table border=\"1\" class=\"dataframe\">\n",
       "  <thead>\n",
       "    <tr style=\"text-align: right;\">\n",
       "      <th></th>\n",
       "      <th>ClassId</th>\n",
       "      <th>Path</th>\n",
       "    </tr>\n",
       "  </thead>\n",
       "  <tbody>\n",
       "    <tr>\n",
       "      <th>0</th>\n",
       "      <td>20</td>\n",
       "      <td>Train/20/00020_00000_00000.png</td>\n",
       "    </tr>\n",
       "    <tr>\n",
       "      <th>1</th>\n",
       "      <td>20</td>\n",
       "      <td>Train/20/00020_00000_00001.png</td>\n",
       "    </tr>\n",
       "    <tr>\n",
       "      <th>2</th>\n",
       "      <td>20</td>\n",
       "      <td>Train/20/00020_00000_00002.png</td>\n",
       "    </tr>\n",
       "    <tr>\n",
       "      <th>3</th>\n",
       "      <td>20</td>\n",
       "      <td>Train/20/00020_00000_00003.png</td>\n",
       "    </tr>\n",
       "    <tr>\n",
       "      <th>4</th>\n",
       "      <td>20</td>\n",
       "      <td>Train/20/00020_00000_00004.png</td>\n",
       "    </tr>\n",
       "  </tbody>\n",
       "</table>\n",
       "</div>"
      ],
      "text/plain": [
       "   ClassId                            Path\n",
       "0       20  Train/20/00020_00000_00000.png\n",
       "1       20  Train/20/00020_00000_00001.png\n",
       "2       20  Train/20/00020_00000_00002.png\n",
       "3       20  Train/20/00020_00000_00003.png\n",
       "4       20  Train/20/00020_00000_00004.png"
      ]
     },
     "execution_count": 4,
     "metadata": {},
     "output_type": "execute_result"
    }
   ],
   "source": [
    "# read excel file found at path name made from combining 'data_folder_path (path in Jupyter) and 'Train_data_label.xlsx' (file name)\n",
    "# store this in variable 'train_data_labels'\n",
    "\n",
    "train_data_labels = pd.read_excel(data_folder_path + 'Train_data_label.xlsx')\n",
    "\n",
    "# overexplained:\n",
    "# stored as a variable so that later, this 'train_data_labels' variable can be combined with each of the individual image paths (see 'Path' col in head below) using a For function\n",
    "\n",
    "train_data_labels.head()"
   ]
  },
  {
   "cell_type": "code",
   "execution_count": 5,
   "metadata": {},
   "outputs": [
    {
     "data": {
      "text/plain": [
       "array([20,  0,  1,  2,  3,  4,  5,  6,  7,  8,  9, 10, 11, 12, 13, 14, 15,\n",
       "       16, 17, 18, 19, 21, 22, 23, 24, 25, 26, 27, 28, 29, 30, 31, 32, 33,\n",
       "       34, 35, 36, 37, 38, 39, 40, 41, 42])"
      ]
     },
     "execution_count": 5,
     "metadata": {},
     "output_type": "execute_result"
    }
   ],
   "source": [
    "# seeing unique of classes in train data\n",
    "train_data_labels['ClassId'].unique()"
   ]
  },
  {
   "cell_type": "code",
   "execution_count": 6,
   "metadata": {},
   "outputs": [
    {
     "data": {
      "text/plain": [
       "43"
      ]
     },
     "execution_count": 6,
     "metadata": {},
     "output_type": "execute_result"
    }
   ],
   "source": [
    "# seeing unique number of classes in train data\n",
    "train_data_labels['ClassId'].nunique()"
   ]
  },
  {
   "cell_type": "code",
   "execution_count": 7,
   "metadata": {},
   "outputs": [],
   "source": [
    "# creating a column names as img_arr which will be used for storing the images array\n",
    "train_data_labels['color_img_arr'] = None\n",
    "train_data_labels['grayscale_img_arr'] = None"
   ]
  },
  {
   "cell_type": "code",
   "execution_count": null,
   "metadata": {
    "scrolled": true,
    "tags": []
   },
   "outputs": [],
   "source": [
    "train_data_labels.head()\n",
    "\n"
   ]
  },
  {
   "cell_type": "code",
   "execution_count": 9,
   "metadata": {},
   "outputs": [],
   "source": [
    "#Going through the path column of data and joining it with the data_folder path and then reading the image and converting it to array and then saving it to img_arr column of data\n",
    "\n",
    "for index , each_path in zip(train_data_labels.index , train_data_labels['Path']):\n",
    "    \n",
    "    #overexplained:\n",
    "    #use Zip function to create a list of coupled data pairs consisting of:\n",
    "        #1 train_data_labels.index i.e. the numbers in 1st column of train_data_lables excel file\n",
    "        #2 train_data_labels['Path'] i.e. the paths in the path column\n",
    "            #e.g print(list(zip(train_data_labels.index , train_data_labels['Path']))) will give: \n",
    "                #[(0, 'Train/20/00020_00000_00000.png'), (1, 'Train/20/00020_00000_00001.png')...] \n",
    "                #zip function tutorial https://www.youtube.com/watch?v=ALWe-tbrzQU&t=170s\n",
    "    #for functions creates two new variables, 'index' and 'each_path' and assigns 1&2 to them respectively in each iteration of the for loop\n",
    "    \n",
    "    complete_path_image = os.path.join(data_folder_path , each_path)\n",
    "\n",
    "    #joins data_folder_path (i.e.'Data/) with each_path (the path in path column)\n",
    "    #e.g. after te last iteration complete_path_image = 'Data/Train/42/00042_00007_00029.png'\n",
    "    #this tells the program where to find the last image in the folder\n",
    "     \n",
    "    image = Image.open(complete_path_image)\n",
    "    image_resized = image.resize((30,30))\n",
    "    \n",
    "    #open the image stored at location in variable 'complete_path_image', and store that in new variable called image\n",
    "    #resize the image to 30x30 and store that in variable 'image_resized'\n",
    "    \n",
    "    # color images\n",
    "    image_array = np.array(image_resized)\n",
    "    \n",
    "    #convert the resized image into an array\n",
    "    #each image is converted into a matrix, each pixel within the matrix has a height, width, and channel number associated with it\n",
    "        #3 channels (RGB) for color\n",
    "        #a grayscale score of up to 255 for grayscale images\n",
    "    \n",
    "    train_data_labels.iat[index , 2] = image_array \n",
    "    \n",
    "    #taking the image array/matrix and putting it into the relevant cell in the dataframe (can see these in the columns in head output below)\n",
    "    \n",
    "    # grayscale images\n",
    "    grayscale_img = ImageOps.grayscale(image_resized)   # converting image to graycscale\n",
    "    grayscale_image_array = np.array(grayscale_img)\n",
    "    grayscale_image_array.resize(30,30,1)\n",
    "    train_data_labels.iat[index , 3] = grayscale_image_array \n",
    "    \n",
    "    #repeat process above for grayscale"
   ]
  },
  {
   "cell_type": "code",
   "execution_count": 10,
   "metadata": {},
   "outputs": [
    {
     "data": {
      "text/html": [
       "<div>\n",
       "<style scoped>\n",
       "    .dataframe tbody tr th:only-of-type {\n",
       "        vertical-align: middle;\n",
       "    }\n",
       "\n",
       "    .dataframe tbody tr th {\n",
       "        vertical-align: top;\n",
       "    }\n",
       "\n",
       "    .dataframe thead th {\n",
       "        text-align: right;\n",
       "    }\n",
       "</style>\n",
       "<table border=\"1\" class=\"dataframe\">\n",
       "  <thead>\n",
       "    <tr style=\"text-align: right;\">\n",
       "      <th></th>\n",
       "      <th>ClassId</th>\n",
       "      <th>Path</th>\n",
       "      <th>color_img_arr</th>\n",
       "      <th>grayscale_img_arr</th>\n",
       "    </tr>\n",
       "  </thead>\n",
       "  <tbody>\n",
       "    <tr>\n",
       "      <th>0</th>\n",
       "      <td>20</td>\n",
       "      <td>Train/20/00020_00000_00000.png</td>\n",
       "      <td>[[[46, 51, 56], [48, 51, 56], [49, 51, 54], [5...</td>\n",
       "      <td>[[[50], [51], [51], [54], [69], [88], [83], [5...</td>\n",
       "    </tr>\n",
       "    <tr>\n",
       "      <th>1</th>\n",
       "      <td>20</td>\n",
       "      <td>Train/20/00020_00000_00001.png</td>\n",
       "      <td>[[[47, 50, 55], [49, 50, 55], [50, 50, 54], [5...</td>\n",
       "      <td>[[[50], [50], [50], [51], [52], [49], [70], [8...</td>\n",
       "    </tr>\n",
       "    <tr>\n",
       "      <th>2</th>\n",
       "      <td>20</td>\n",
       "      <td>Train/20/00020_00000_00002.png</td>\n",
       "      <td>[[[51, 50, 57], [51, 51, 60], [50, 51, 57], [5...</td>\n",
       "      <td>[[[51], [52], [51], [51], [51], [52], [50], [7...</td>\n",
       "    </tr>\n",
       "    <tr>\n",
       "      <th>3</th>\n",
       "      <td>20</td>\n",
       "      <td>Train/20/00020_00000_00003.png</td>\n",
       "      <td>[[[49, 49, 54], [49, 50, 55], [48, 50, 55], [4...</td>\n",
       "      <td>[[[50], [50], [50], [49], [49], [47], [56], [6...</td>\n",
       "    </tr>\n",
       "    <tr>\n",
       "      <th>4</th>\n",
       "      <td>20</td>\n",
       "      <td>Train/20/00020_00000_00004.png</td>\n",
       "      <td>[[[50, 50, 55], [51, 50, 56], [51, 49, 54], [4...</td>\n",
       "      <td>[[[51], [51], [50], [49], [49], [50], [50], [4...</td>\n",
       "    </tr>\n",
       "  </tbody>\n",
       "</table>\n",
       "</div>"
      ],
      "text/plain": [
       "   ClassId                            Path  \\\n",
       "0       20  Train/20/00020_00000_00000.png   \n",
       "1       20  Train/20/00020_00000_00001.png   \n",
       "2       20  Train/20/00020_00000_00002.png   \n",
       "3       20  Train/20/00020_00000_00003.png   \n",
       "4       20  Train/20/00020_00000_00004.png   \n",
       "\n",
       "                                       color_img_arr  \\\n",
       "0  [[[46, 51, 56], [48, 51, 56], [49, 51, 54], [5...   \n",
       "1  [[[47, 50, 55], [49, 50, 55], [50, 50, 54], [5...   \n",
       "2  [[[51, 50, 57], [51, 51, 60], [50, 51, 57], [5...   \n",
       "3  [[[49, 49, 54], [49, 50, 55], [48, 50, 55], [4...   \n",
       "4  [[[50, 50, 55], [51, 50, 56], [51, 49, 54], [4...   \n",
       "\n",
       "                                   grayscale_img_arr  \n",
       "0  [[[50], [51], [51], [54], [69], [88], [83], [5...  \n",
       "1  [[[50], [50], [50], [51], [52], [49], [70], [8...  \n",
       "2  [[[51], [52], [51], [51], [51], [52], [50], [7...  \n",
       "3  [[[50], [50], [50], [49], [49], [47], [56], [6...  \n",
       "4  [[[51], [51], [50], [49], [49], [50], [50], [4...  "
      ]
     },
     "execution_count": 10,
     "metadata": {},
     "output_type": "execute_result"
    }
   ],
   "source": [
    "train_data_labels.head()"
   ]
  },
  {
   "cell_type": "code",
   "execution_count": 11,
   "metadata": {},
   "outputs": [
    {
     "data": {
      "image/png": "[encoded data removed]",
      "text/plain": [
       "<PIL.Image.Image image mode=RGB size=30x30 at 0x7FDC690C9790>"
      ]
     },
     "execution_count": 11,
     "metadata": {},
     "output_type": "execute_result"
    }
   ],
   "source": [
    "#viewing random images\n",
    "\n",
    "class_no = 14\n",
    "random_num = 40\n",
    "\n",
    "ran_class = train_data_labels[train_data_labels['ClassId'] == class_no]\n",
    "color_class_img = ran_class.iloc[random_num , 2]\n",
    "grayscale_class_img = ran_class.iloc[random_num , 3]\n",
    "\n",
    "array_to_img(color_class_img)"
   ]
  },
  {
   "cell_type": "code",
   "execution_count": 12,
   "metadata": {},
   "outputs": [
    {
     "data": {
      "image/png": "[encoded data removed]",
      "text/plain": [
       "<PIL.Image.Image image mode=L size=30x30 at 0x7FDC690D4D10>"
      ]
     },
     "execution_count": 12,
     "metadata": {},
     "output_type": "execute_result"
    }
   ],
   "source": [
    "array_to_img(grayscale_class_img)"
   ]
  },
  {
   "cell_type": "code",
   "execution_count": 13,
   "metadata": {},
   "outputs": [
    {
     "data": {
      "text/html": [
       "<div>\n",
       "<style scoped>\n",
       "    .dataframe tbody tr th:only-of-type {\n",
       "        vertical-align: middle;\n",
       "    }\n",
       "\n",
       "    .dataframe tbody tr th {\n",
       "        vertical-align: top;\n",
       "    }\n",
       "\n",
       "    .dataframe thead th {\n",
       "        text-align: right;\n",
       "    }\n",
       "</style>\n",
       "<table border=\"1\" class=\"dataframe\">\n",
       "  <thead>\n",
       "    <tr style=\"text-align: right;\">\n",
       "      <th></th>\n",
       "      <th>ClassId</th>\n",
       "      <th>Path</th>\n",
       "    </tr>\n",
       "  </thead>\n",
       "  <tbody>\n",
       "    <tr>\n",
       "      <th>0</th>\n",
       "      <td>16</td>\n",
       "      <td>Test/00000.png</td>\n",
       "    </tr>\n",
       "    <tr>\n",
       "      <th>1</th>\n",
       "      <td>1</td>\n",
       "      <td>Test/00001.png</td>\n",
       "    </tr>\n",
       "    <tr>\n",
       "      <th>2</th>\n",
       "      <td>38</td>\n",
       "      <td>Test/00002.png</td>\n",
       "    </tr>\n",
       "    <tr>\n",
       "      <th>3</th>\n",
       "      <td>33</td>\n",
       "      <td>Test/00003.png</td>\n",
       "    </tr>\n",
       "    <tr>\n",
       "      <th>4</th>\n",
       "      <td>11</td>\n",
       "      <td>Test/00004.png</td>\n",
       "    </tr>\n",
       "  </tbody>\n",
       "</table>\n",
       "</div>"
      ],
      "text/plain": [
       "   ClassId            Path\n",
       "0       16  Test/00000.png\n",
       "1        1  Test/00001.png\n",
       "2       38  Test/00002.png\n",
       "3       33  Test/00003.png\n",
       "4       11  Test/00004.png"
      ]
     },
     "execution_count": 13,
     "metadata": {},
     "output_type": "execute_result"
    }
   ],
   "source": [
    "#Repeating same process for test data\n",
    "\n",
    "test_data_labels = pd.read_excel(data_folder_path + 'Test_data_label.xlsx')\n",
    "\n",
    "test_data_labels.head()"
   ]
  },
  {
   "cell_type": "code",
   "execution_count": 14,
   "metadata": {},
   "outputs": [
    {
     "data": {
      "text/plain": [
       "array([16,  1, 38, 33, 11, 18, 12, 25, 35,  7, 23,  4,  9, 21, 20, 27,  3,\n",
       "       13, 10,  5, 17, 34,  2,  8, 30, 24, 15, 26, 28, 22, 14, 32, 29,  6,\n",
       "       36, 40, 41, 31, 19,  0, 39, 42, 37])"
      ]
     },
     "execution_count": 14,
     "metadata": {},
     "output_type": "execute_result"
    }
   ],
   "source": [
    "test_data_labels['ClassId'].unique()"
   ]
  },
  {
   "cell_type": "code",
   "execution_count": 15,
   "metadata": {},
   "outputs": [
    {
     "data": {
      "text/plain": [
       "43"
      ]
     },
     "execution_count": 15,
     "metadata": {},
     "output_type": "execute_result"
    }
   ],
   "source": [
    "test_data_labels['ClassId'].nunique()"
   ]
  },
  {
   "cell_type": "code",
   "execution_count": 16,
   "metadata": {},
   "outputs": [],
   "source": [
    "test_data_labels['color_img_arr'] = None\n",
    "test_data_labels['grayscale_img_arr'] = None"
   ]
  },
  {
   "cell_type": "code",
   "execution_count": 17,
   "metadata": {},
   "outputs": [
    {
     "data": {
      "text/html": [
       "<div>\n",
       "<style scoped>\n",
       "    .dataframe tbody tr th:only-of-type {\n",
       "        vertical-align: middle;\n",
       "    }\n",
       "\n",
       "    .dataframe tbody tr th {\n",
       "        vertical-align: top;\n",
       "    }\n",
       "\n",
       "    .dataframe thead th {\n",
       "        text-align: right;\n",
       "    }\n",
       "</style>\n",
       "<table border=\"1\" class=\"dataframe\">\n",
       "  <thead>\n",
       "    <tr style=\"text-align: right;\">\n",
       "      <th></th>\n",
       "      <th>ClassId</th>\n",
       "      <th>Path</th>\n",
       "      <th>color_img_arr</th>\n",
       "      <th>grayscale_img_arr</th>\n",
       "    </tr>\n",
       "  </thead>\n",
       "  <tbody>\n",
       "    <tr>\n",
       "      <th>0</th>\n",
       "      <td>16</td>\n",
       "      <td>Test/00000.png</td>\n",
       "      <td>None</td>\n",
       "      <td>None</td>\n",
       "    </tr>\n",
       "    <tr>\n",
       "      <th>1</th>\n",
       "      <td>1</td>\n",
       "      <td>Test/00001.png</td>\n",
       "      <td>None</td>\n",
       "      <td>None</td>\n",
       "    </tr>\n",
       "    <tr>\n",
       "      <th>2</th>\n",
       "      <td>38</td>\n",
       "      <td>Test/00002.png</td>\n",
       "      <td>None</td>\n",
       "      <td>None</td>\n",
       "    </tr>\n",
       "    <tr>\n",
       "      <th>3</th>\n",
       "      <td>33</td>\n",
       "      <td>Test/00003.png</td>\n",
       "      <td>None</td>\n",
       "      <td>None</td>\n",
       "    </tr>\n",
       "    <tr>\n",
       "      <th>4</th>\n",
       "      <td>11</td>\n",
       "      <td>Test/00004.png</td>\n",
       "      <td>None</td>\n",
       "      <td>None</td>\n",
       "    </tr>\n",
       "  </tbody>\n",
       "</table>\n",
       "</div>"
      ],
      "text/plain": [
       "   ClassId            Path color_img_arr grayscale_img_arr\n",
       "0       16  Test/00000.png          None              None\n",
       "1        1  Test/00001.png          None              None\n",
       "2       38  Test/00002.png          None              None\n",
       "3       33  Test/00003.png          None              None\n",
       "4       11  Test/00004.png          None              None"
      ]
     },
     "execution_count": 17,
     "metadata": {},
     "output_type": "execute_result"
    }
   ],
   "source": [
    "test_data_labels.head()"
   ]
  },
  {
   "cell_type": "code",
   "execution_count": 18,
   "metadata": {},
   "outputs": [],
   "source": [
    "for index , each_path in zip(test_data_labels.index , test_data_labels['Path']):\n",
    "    \n",
    "    complete_path_image = os.path.join(data_folder_path , each_path)\n",
    "    \n",
    "    image = Image.open(complete_path_image)\n",
    "    image_resized = image.resize((30,30))\n",
    "    \n",
    "    # color images\n",
    "    image_array = np.array(image_resized)\n",
    "    test_data_labels.iat[index , 2] = image_array \n",
    "    \n",
    "    # grayscale images\n",
    "    grayscale_img = ImageOps.grayscale(image_resized)   # converting image to graycscale\n",
    "    grayscale_image_array = np.array(grayscale_img)\n",
    "    grayscale_image_array.resize(30,30,1)\n",
    "    test_data_labels.iat[index , 3] = grayscale_image_array "
   ]
  },
  {
   "cell_type": "code",
   "execution_count": 19,
   "metadata": {},
   "outputs": [
    {
     "data": {
      "text/html": [
       "<div>\n",
       "<style scoped>\n",
       "    .dataframe tbody tr th:only-of-type {\n",
       "        vertical-align: middle;\n",
       "    }\n",
       "\n",
       "    .dataframe tbody tr th {\n",
       "        vertical-align: top;\n",
       "    }\n",
       "\n",
       "    .dataframe thead th {\n",
       "        text-align: right;\n",
       "    }\n",
       "</style>\n",
       "<table border=\"1\" class=\"dataframe\">\n",
       "  <thead>\n",
       "    <tr style=\"text-align: right;\">\n",
       "      <th></th>\n",
       "      <th>ClassId</th>\n",
       "      <th>Path</th>\n",
       "      <th>color_img_arr</th>\n",
       "      <th>grayscale_img_arr</th>\n",
       "    </tr>\n",
       "  </thead>\n",
       "  <tbody>\n",
       "    <tr>\n",
       "      <th>0</th>\n",
       "      <td>16</td>\n",
       "      <td>Test/00000.png</td>\n",
       "      <td>[[[116, 140, 175], [116, 138, 171], [119, 138,...</td>\n",
       "      <td>[[[137], [135], [136], [135], [134], [133], [1...</td>\n",
       "    </tr>\n",
       "    <tr>\n",
       "      <th>1</th>\n",
       "      <td>1</td>\n",
       "      <td>Test/00001.png</td>\n",
       "      <td>[[[62, 72, 61], [89, 81, 63], [94, 82, 65], [9...</td>\n",
       "      <td>[[[68], [81], [84], [87], [75], [80], [74], [4...</td>\n",
       "    </tr>\n",
       "    <tr>\n",
       "      <th>2</th>\n",
       "      <td>38</td>\n",
       "      <td>Test/00002.png</td>\n",
       "      <td>[[[52, 40, 38], [51, 39, 37], [50, 38, 37], [5...</td>\n",
       "      <td>[[[43], [42], [41], [42], [41], [40], [41], [4...</td>\n",
       "    </tr>\n",
       "    <tr>\n",
       "      <th>3</th>\n",
       "      <td>33</td>\n",
       "      <td>Test/00003.png</td>\n",
       "      <td>[[[134, 127, 88], [95, 88, 58], [76, 67, 27], ...</td>\n",
       "      <td>[[[125], [87], [65], [82], [121], [162], [183]...</td>\n",
       "    </tr>\n",
       "    <tr>\n",
       "      <th>4</th>\n",
       "      <td>11</td>\n",
       "      <td>Test/00004.png</td>\n",
       "      <td>[[[36, 33, 29], [43, 38, 33], [46, 40, 36], [4...</td>\n",
       "      <td>[[[33], [39], [41], [40], [38], [38], [43], [5...</td>\n",
       "    </tr>\n",
       "  </tbody>\n",
       "</table>\n",
       "</div>"
      ],
      "text/plain": [
       "   ClassId            Path                                      color_img_arr  \\\n",
       "0       16  Test/00000.png  [[[116, 140, 175], [116, 138, 171], [119, 138,...   \n",
       "1        1  Test/00001.png  [[[62, 72, 61], [89, 81, 63], [94, 82, 65], [9...   \n",
       "2       38  Test/00002.png  [[[52, 40, 38], [51, 39, 37], [50, 38, 37], [5...   \n",
       "3       33  Test/00003.png  [[[134, 127, 88], [95, 88, 58], [76, 67, 27], ...   \n",
       "4       11  Test/00004.png  [[[36, 33, 29], [43, 38, 33], [46, 40, 36], [4...   \n",
       "\n",
       "                                   grayscale_img_arr  \n",
       "0  [[[137], [135], [136], [135], [134], [133], [1...  \n",
       "1  [[[68], [81], [84], [87], [75], [80], [74], [4...  \n",
       "2  [[[43], [42], [41], [42], [41], [40], [41], [4...  \n",
       "3  [[[125], [87], [65], [82], [121], [162], [183]...  \n",
       "4  [[[33], [39], [41], [40], [38], [38], [43], [5...  "
      ]
     },
     "execution_count": 19,
     "metadata": {},
     "output_type": "execute_result"
    }
   ],
   "source": [
    "test_data_labels.head()"
   ]
  },
  {
   "cell_type": "code",
   "execution_count": 20,
   "metadata": {},
   "outputs": [
    {
     "data": {
      "text/plain": [
       "<AxesSubplot:>"
      ]
     },
     "execution_count": 20,
     "metadata": {},
     "output_type": "execute_result"
    },
    {
     "data": {
      "image/png": "[encoded data removed]",
      "text/plain": [
       "<Figure size 720x1440 with 1 Axes>"
      ]
     },
     "metadata": {
      "needs_background": "light"
     },
     "output_type": "display_data"
    }
   ],
   "source": [
    "# distribution of classes in train and test data\n",
    "\n",
    "# getting the class counts with actual names of class and storing them as dataframes\n",
    "train_data_counts = train_data_labels['ClassId'].map(classes).value_counts().to_frame().rename(columns = {'ClassId' : 'Train'})\n",
    "test_data_counts = test_data_labels['ClassId'].map(classes).value_counts().to_frame().rename(columns = {'ClassId' : 'Test'})\n",
    "\n",
    "# merging both train and test data classes count\n",
    "plot_data = pd.merge(train_data_counts , test_data_counts , left_index = True , right_index = True)\n",
    "\n",
    "# ploting horizontal bar graph\n",
    "plot_data.plot(kind = 'barh' , figsize = (10, 20))"
   ]
  },
  {
   "cell_type": "code",
   "execution_count": 21,
   "metadata": {},
   "outputs": [],
   "source": [
    "# making train and test data array\n",
    "x_train_color = np.array(train_data_labels['color_img_arr'].tolist())\n",
    "x_train_grayscale = np.array(train_data_labels['grayscale_img_arr'].tolist())\n",
    "\n",
    "x_test_color = np.array(test_data_labels['color_img_arr'].tolist())\n",
    "x_test_grayscale = np.array(test_data_labels['grayscale_img_arr'].tolist())\n",
    "\n",
    "#Converting the labels into one hot encoding\n",
    "y_train = to_categorical(train_data_labels['ClassId'], 43)\n",
    "y_test = to_categorical(test_data_labels['ClassId'], 43)"
   ]
  },
  {
   "cell_type": "code",
   "execution_count": 22,
   "metadata": {},
   "outputs": [],
   "source": [
    "# Making CNN with Color Images\n",
    "\n",
    "#Building the model\n",
    "model = Sequential()\n",
    "\n",
    "model.add(Conv2D(filters =  32, kernel_size = (5,5), activation = 'relu', input_shape  =  x_train_color.shape[1:]))\n",
    "model.add(Conv2D(filters = 32, kernel_size = (5,5), activation = 'relu'))\n",
    "model.add(MaxPool2D(pool_size = (2, 2)))\n",
    "model.add(Dropout(rate = 0.25))\n",
    "\n",
    "model.add(Conv2D(filters = 64, kernel_size = (3, 3), activation = 'relu'))\n",
    "model.add(Conv2D(filters = 64, kernel_size = (3, 3), activation = 'relu'))\n",
    "model.add(MaxPool2D(pool_size = (2, 2)))\n",
    "model.add(Dropout(rate = 0.25))\n",
    "\n",
    "model.add(Flatten())\n",
    "\n",
    "model.add(Dense(256, activation = 'relu'))\n",
    "model.add(Dropout(rate = 0.5))\n",
    "\n",
    "model.add(Dense(43, activation = 'softmax'))"
   ]
  },
  {
   "cell_type": "code",
   "execution_count": 23,
   "metadata": {},
   "outputs": [],
   "source": [
    "# Early stopping\n",
    "es = EarlyStopping( monitor ='val_loss', min_delta = 0.1 ,patience = 2 ,  mode = 'min' , restore_best_weights = True)  "
   ]
  },
  {
   "cell_type": "code",
   "execution_count": 24,
   "metadata": {},
   "outputs": [],
   "source": [
    "#Compilation of the model\n",
    "model.compile(loss = 'categorical_crossentropy', optimizer = 'adam', metrics = ['accuracy'])"
   ]
  },
  {
   "cell_type": "code",
   "execution_count": 25,
   "metadata": {},
   "outputs": [
    {
     "name": "stdout",
     "output_type": "stream",
     "text": [
      "Epoch 1/15\n",
      "1226/1226 [==============================] - 130s 105ms/step - loss: 1.9689 - accuracy: 0.4951 - val_loss: 0.8306 - val_accuracy: 0.7842\n",
      "Epoch 2/15\n",
      "1226/1226 [==============================] - 131s 107ms/step - loss: 0.9123 - accuracy: 0.7314 - val_loss: 0.5394 - val_accuracy: 0.8473\n",
      "Epoch 3/15\n",
      "1226/1226 [==============================] - 129s 105ms/step - loss: 0.7016 - accuracy: 0.7905 - val_loss: 0.4724 - val_accuracy: 0.8666\n",
      "Epoch 4/15\n",
      "1226/1226 [==============================] - 131s 107ms/step - loss: 0.6174 - accuracy: 0.8149 - val_loss: 0.5640 - val_accuracy: 0.8348\n"
     ]
    }
   ],
   "source": [
    "epochs = 15\n",
    "history = model.fit(x_train_color, y_train,\n",
    "                    batch_size = 32, epochs = epochs,\n",
    "                    validation_data = (x_test_color , y_test) , \n",
    "                    callbacks = [es,])"
   ]
  },
  {
   "cell_type": "code",
   "execution_count": 26,
   "metadata": {},
   "outputs": [
    {
     "data": {
      "image/png": "[encoded data removed]",
      "text/plain": [
       "<Figure size 432x288 with 1 Axes>"
      ]
     },
     "metadata": {
      "needs_background": "light"
     },
     "output_type": "display_data"
    }
   ],
   "source": [
    "# plotting for loss\n",
    "\n",
    "plt.plot(history.history['loss'], label = 'training loss')\n",
    "plt.plot(history.history['val_loss'], label = 'val loss')\n",
    "\n",
    "plt.title('Loss')\n",
    "\n",
    "plt.xlabel('epochs')\n",
    "plt.ylabel('loss')\n",
    "\n",
    "plt.legend()\n",
    "plt.show()"
   ]
  },
  {
   "cell_type": "code",
   "execution_count": 27,
   "metadata": {},
   "outputs": [],
   "source": [
    "pred = model.predict(x_test_color)\n",
    "\n",
    "pred_labels = np.argmax(pred, axis = -1)"
   ]
  },
  {
   "cell_type": "code",
   "execution_count": 28,
   "metadata": {},
   "outputs": [
    {
     "name": "stdout",
     "output_type": "stream",
     "text": [
      "                               precision    recall  f1-score   support\n",
      "\n",
      "         Speed limit (20km/h)       1.00      0.22      0.36        60\n",
      "         Speed limit (30km/h)       0.86      0.85      0.86       720\n",
      "         Speed limit (50km/h)       0.86      0.87      0.87       750\n",
      "         Speed limit (60km/h)       0.83      0.89      0.86       450\n",
      "         Speed limit (70km/h)       0.84      0.92      0.87       660\n",
      "         Speed limit (80km/h)       0.74      0.74      0.74       630\n",
      "  End of speed limit (80km/h)       0.99      0.65      0.79       150\n",
      "        Speed limit (100km/h)       0.86      0.88      0.87       450\n",
      "        Speed limit (120km/h)       0.85      0.83      0.84       450\n",
      "                   No passing       0.95      0.67      0.79       480\n",
      " No passing veh over 3.5 tons       0.80      0.98      0.88       660\n",
      " Right-of-way at intersection       0.86      0.90      0.88       420\n",
      "                Priority road       0.90      0.93      0.92       690\n",
      "                        Yield       0.98      0.99      0.98       720\n",
      "                         Stop       0.93      0.88      0.90       270\n",
      "                  No vehicles       0.94      0.98      0.96       210\n",
      "    Veh > 3.5 tons prohibited       0.99      0.89      0.94       150\n",
      "                     No entry       0.92      0.81      0.86       360\n",
      "              General caution       0.67      0.86      0.75       390\n",
      "         Dangerous curve left       0.77      0.85      0.81        60\n",
      "        Dangerous curve right       0.95      0.63      0.76        90\n",
      "                 Double curve       0.45      0.29      0.35        90\n",
      "                   Bumpy road       0.99      0.70      0.82       120\n",
      "                Slippery road       0.71      0.57      0.63       150\n",
      "    Road narrows on the right       0.83      0.38      0.52        90\n",
      "                    Road work       0.96      0.91      0.94       480\n",
      "              Traffic signals       0.90      0.42      0.57       180\n",
      "                  Pedestrians       0.89      0.27      0.41        60\n",
      "            Children crossing       0.68      0.85      0.76       150\n",
      "            Bicycles crossing       0.60      0.59      0.60        90\n",
      "           Beware of ice/snow       0.37      0.61      0.46       150\n",
      "        Wild animals crossing       0.68      0.88      0.77       270\n",
      "   End speed + passing limits       0.67      0.55      0.61        60\n",
      "             Turn right ahead       0.91      0.98      0.94       210\n",
      "              Turn left ahead       0.81      0.90      0.85       120\n",
      "                   Ahead only       0.96      0.97      0.97       390\n",
      "         Go straight or right       0.81      0.94      0.87       120\n",
      "          Go straight or left       0.91      0.83      0.87        60\n",
      "                   Keep right       0.98      0.94      0.96       690\n",
      "                    Keep left       0.97      0.86      0.91        90\n",
      "         Roundabout mandatory       0.73      0.79      0.76        90\n",
      "            End of no passing       0.54      0.82      0.65        60\n",
      "End no passing veh > 3.5 tons       1.00      0.74      0.85        90\n",
      "\n",
      "                     accuracy                           0.85     12630\n",
      "                    macro avg       0.83      0.77      0.78     12630\n",
      "                 weighted avg       0.86      0.85      0.84     12630\n",
      "\n"
     ]
    }
   ],
   "source": [
    "print(classification_report(test_data_labels['ClassId'] , pred_labels , target_names = classes.values()))"
   ]
  },
  {
   "cell_type": "code",
   "execution_count": 29,
   "metadata": {},
   "outputs": [],
   "source": [
    "# Making CNN with Grayscale Images\n",
    "\n",
    "#Building the model\n",
    "model = Sequential()\n",
    "\n",
    "model.add(Conv2D(filters =  32, kernel_size = (5,5), activation = 'relu', input_shape  =  x_train_grayscale.shape[1:]))\n",
    "model.add(Conv2D(filters = 32, kernel_size = (5,5), activation = 'relu'))\n",
    "model.add(MaxPool2D(pool_size = (2, 2)))\n",
    "model.add(Dropout(rate = 0.25))\n",
    "\n",
    "model.add(Conv2D(filters = 64, kernel_size = (3, 3), activation = 'relu'))\n",
    "model.add(Conv2D(filters = 64, kernel_size = (3, 3), activation = 'relu'))\n",
    "model.add(MaxPool2D(pool_size = (2, 2)))\n",
    "model.add(Dropout(rate = 0.25))\n",
    "\n",
    "model.add(Flatten())\n",
    "\n",
    "model.add(Dense(256, activation = 'relu'))\n",
    "model.add(Dropout(rate = 0.5))\n",
    "\n",
    "model.add(Dense(43, activation = 'softmax'))"
   ]
  },
  {
   "cell_type": "code",
   "execution_count": 30,
   "metadata": {},
   "outputs": [],
   "source": [
    "# Early stopping\n",
    "es = EarlyStopping( monitor='val_loss', min_delta = 0.1 ,patience = 2 ,  mode = 'min' , restore_best_weights = True)"
   ]
  },
  {
   "cell_type": "code",
   "execution_count": 31,
   "metadata": {},
   "outputs": [],
   "source": [
    "#Compilation of the model\n",
    "model.compile(loss = 'categorical_crossentropy', optimizer = 'adam', metrics = ['accuracy'])"
   ]
  },
  {
   "cell_type": "code",
   "execution_count": 32,
   "metadata": {},
   "outputs": [
    {
     "name": "stdout",
     "output_type": "stream",
     "text": [
      "Epoch 1/15\n",
      "1226/1226 [==============================] - 131s 106ms/step - loss: 1.6815 - accuracy: 0.5509 - val_loss: 0.5380 - val_accuracy: 0.8569\n",
      "Epoch 2/15\n",
      "1226/1226 [==============================] - 125s 102ms/step - loss: 0.6103 - accuracy: 0.8165 - val_loss: 0.3045 - val_accuracy: 0.9131\n",
      "Epoch 3/15\n",
      "1226/1226 [==============================] - 123s 101ms/step - loss: 0.4106 - accuracy: 0.8768 - val_loss: 0.2336 - val_accuracy: 0.9344\n",
      "Epoch 4/15\n",
      "1226/1226 [==============================] - 124s 101ms/step - loss: 0.3298 - accuracy: 0.9024 - val_loss: 0.2643 - val_accuracy: 0.9282\n"
     ]
    }
   ],
   "source": [
    "epochs = 15\n",
    "history = model.fit(x_train_grayscale , y_train,\n",
    "                    batch_size = 32, epochs = epochs,\n",
    "                    validation_data = (x_test_grayscale , y_test) , \n",
    "                    callbacks = [es,])"
   ]
  },
  {
   "cell_type": "code",
   "execution_count": 37,
   "metadata": {},
   "outputs": [
    {
     "data": {
      "image/png": "[encoded data removed]",
      "text/plain": [
       "<Figure size 432x288 with 1 Axes>"
      ]
     },
     "metadata": {
      "needs_background": "light"
     },
     "output_type": "display_data"
    }
   ],
   "source": [
    "#plotting graphs for accuracy \n",
    "\n",
    "plt.plot(history.history['accuracy'], label = 'training accuracy')\n",
    "plt.plot(history.history['val_accuracy'], label = 'val accuracy')\n",
    "\n",
    "plt.xlabel('epochs')\n",
    "plt.ylabel('accuracy')\n",
    "\n",
    "plt.title('Accuracy')\n",
    "\n",
    "plt.legend()\n",
    "plt.show()"
   ]
  },
  {
   "cell_type": "code",
   "execution_count": 38,
   "metadata": {},
   "outputs": [
    {
     "data": {
      "image/png": "[encoded data removed]",
      "text/plain": [
       "<Figure size 432x288 with 1 Axes>"
      ]
     },
     "metadata": {
      "needs_background": "light"
     },
     "output_type": "display_data"
    }
   ],
   "source": [
    "# plotting for loss\n",
    "\n",
    "plt.plot(history.history['loss'], label = 'training loss')\n",
    "plt.plot(history.history['val_loss'], label = 'val loss')\n",
    "\n",
    "plt.title('Loss')\n",
    "\n",
    "plt.xlabel('epochs')\n",
    "plt.ylabel('loss')\n",
    "\n",
    "plt.legend()\n",
    "plt.show()"
   ]
  },
  {
   "cell_type": "code",
   "execution_count": 35,
   "metadata": {},
   "outputs": [],
   "source": [
    "pred = model.predict(x_test_grayscale)\n",
    "\n",
    "pred_labels = np.argmax(pred, axis = -1)"
   ]
  },
  {
   "cell_type": "code",
   "execution_count": 39,
   "metadata": {},
   "outputs": [
    {
     "name": "stdout",
     "output_type": "stream",
     "text": [
      "                               precision    recall  f1-score   support\n",
      "\n",
      "         Speed limit (20km/h)       1.00      0.40      0.57        60\n",
      "         Speed limit (30km/h)       0.87      0.97      0.92       720\n",
      "         Speed limit (50km/h)       0.96      0.96      0.96       750\n",
      "         Speed limit (60km/h)       0.94      0.91      0.93       450\n",
      "         Speed limit (70km/h)       0.96      0.95      0.95       660\n",
      "         Speed limit (80km/h)       0.88      0.85      0.86       630\n",
      "  End of speed limit (80km/h)       1.00      0.69      0.81       150\n",
      "        Speed limit (100km/h)       0.91      0.90      0.90       450\n",
      "        Speed limit (120km/h)       0.89      0.89      0.89       450\n",
      "                   No passing       0.88      0.98      0.93       480\n",
      " No passing veh over 3.5 tons       0.95      0.99      0.97       660\n",
      " Right-of-way at intersection       0.92      0.88      0.90       420\n",
      "                Priority road       0.97      0.97      0.97       690\n",
      "                        Yield       0.98      0.99      0.99       720\n",
      "                         Stop       0.99      0.98      0.99       270\n",
      "                  No vehicles       0.92      0.97      0.94       210\n",
      "    Veh > 3.5 tons prohibited       0.99      0.91      0.95       150\n",
      "                     No entry       0.99      0.95      0.97       360\n",
      "              General caution       0.84      0.76      0.80       390\n",
      "         Dangerous curve left       0.88      0.70      0.78        60\n",
      "        Dangerous curve right       0.72      0.79      0.75        90\n",
      "                 Double curve       0.89      0.38      0.53        90\n",
      "                   Bumpy road       0.94      0.95      0.95       120\n",
      "                Slippery road       0.59      0.91      0.72       150\n",
      "    Road narrows on the right       0.98      0.89      0.93        90\n",
      "                    Road work       0.96      0.96      0.96       480\n",
      "              Traffic signals       0.88      0.68      0.77       180\n",
      "                  Pedestrians       0.42      0.45      0.43        60\n",
      "            Children crossing       0.76      0.99      0.86       150\n",
      "            Bicycles crossing       0.95      0.67      0.78        90\n",
      "           Beware of ice/snow       0.65      0.59      0.62       150\n",
      "        Wild animals crossing       0.89      0.98      0.93       270\n",
      "   End speed + passing limits       0.65      1.00      0.79        60\n",
      "             Turn right ahead       0.82      0.95      0.88       210\n",
      "              Turn left ahead       0.94      0.97      0.95       120\n",
      "                   Ahead only       0.99      0.97      0.98       390\n",
      "         Go straight or right       0.94      0.95      0.95       120\n",
      "          Go straight or left       0.97      1.00      0.98        60\n",
      "                   Keep right       0.95      0.92      0.93       690\n",
      "                    Keep left       0.91      0.96      0.93        90\n",
      "         Roundabout mandatory       0.82      0.81      0.82        90\n",
      "            End of no passing       0.90      0.72      0.80        60\n",
      "End no passing veh > 3.5 tons       0.90      0.91      0.91        90\n",
      "\n",
      "                     accuracy                           0.91     12630\n",
      "                    macro avg       0.89      0.86      0.86     12630\n",
      "                 weighted avg       0.92      0.91      0.91     12630\n",
      "\n"
     ]
    }
   ],
   "source": [
    "print(classification_report(test_data_labels['ClassId'] , pred_labels , target_names = classes.values()))\n",
    "\n",
    "#Both models are good"
   ]
  },
  {
   "cell_type": "code",
   "execution_count": null,
   "metadata": {},
   "outputs": [],
   "source": []
  }
 ],
 "metadata": {
  "kernelspec": {
   "display_name": "Python 3",
   "language": "python",
   "name": "python3"
  },
  "language_info": {
   "codemirror_mode": {
    "name": "ipython",
    "version": 3
   },
   "file_extension": ".py",
   "mimetype": "text/x-python",
   "name": "python",
   "nbconvert_exporter": "python",
   "pygments_lexer": "ipython3",
   "version": "3.7.6"
  }
 },
 "nbformat": 4,
 "nbformat_minor": 4
}
